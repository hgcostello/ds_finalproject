{
 "cells": [
  {
   "cell_type": "code",
   "execution_count": 1,
   "id": "eb2f43dd",
   "metadata": {},
   "outputs": [],
   "source": [
    "import os\n",
    "from os import path\n",
    "import time\n",
    "import torch\n",
    "import torch.optim as optim\n",
    "import numpy as np"
   ]
  },
  {
   "cell_type": "code",
   "execution_count": 2,
   "id": "41bda06a",
   "metadata": {},
   "outputs": [],
   "source": [
    "from data import *"
   ]
  },
  {
   "cell_type": "code",
   "execution_count": 3,
   "id": "0c46aa9f",
   "metadata": {},
   "outputs": [
    {
     "name": "stdout",
     "output_type": "stream",
     "text": [
      "retrieving data...\n",
      "partitioning data...\n",
      "augmenting data...\n",
      "saving data...\n"
     ]
    }
   ],
   "source": [
    "train_data, val_data, test_data, train_label, val_label, test_label = get_data()"
   ]
  },
  {
   "cell_type": "code",
   "execution_count": 4,
   "id": "29ac9028",
   "metadata": {},
   "outputs": [],
   "source": [
    "train_data = np.reshape(train_data, (2048, 1, 64, 64, 64))\n",
    "val_data = np.reshape(val_data, (512, 1, 64, 64, 64))\n",
    "test_data = np.reshape(test_data, (512, 1, 64, 64, 64))"
   ]
  },
  {
   "cell_type": "code",
   "execution_count": 5,
   "id": "f1ceb190",
   "metadata": {},
   "outputs": [],
   "source": []
  },
  {
   "cell_type": "code",
   "execution_count": null,
   "id": "7c56a618",
   "metadata": {},
   "outputs": [],
   "source": []
  }
 ],
 "metadata": {
  "kernelspec": {
   "display_name": "Python 3 (ipykernel)",
   "language": "python",
   "name": "python3"
  },
  "language_info": {
   "codemirror_mode": {
    "name": "ipython",
    "version": 3
   },
   "file_extension": ".py",
   "mimetype": "text/x-python",
   "name": "python",
   "nbconvert_exporter": "python",
   "pygments_lexer": "ipython3",
   "version": "3.8.13"
  }
 },
 "nbformat": 4,
 "nbformat_minor": 5
}
